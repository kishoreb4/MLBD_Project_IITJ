{
  "cells": [
    {
      "cell_type": "markdown",
      "metadata": {
        "id": "Oh6TbSHfn0Qx"
      },
      "source": [
        "#### Install & Imports"
      ]
    },
    {
      "cell_type": "code",
      "execution_count": 1,
      "metadata": {
        "id": "uiYZL9Q-izKL"
      },
      "outputs": [],
      "source": [
        "!pip install -q flask-ngrok pyngrok flask"
      ]
    },
    {
      "cell_type": "code",
      "execution_count": 2,
      "metadata": {
        "colab": {
          "base_uri": "https://localhost:8080/"
        },
        "id": "CaJsGpoRg6Po",
        "outputId": "323d81cb-4408-48e6-d2a6-21ca57465b4f"
      },
      "outputs": [
        {
          "output_type": "stream",
          "name": "stdout",
          "text": [
            "\u001b[2K   \u001b[90m━━━━━━━━━━━━━━━━━━━━━━━━━━━━━━━━━━━━━━━━\u001b[0m \u001b[32m363.4/363.4 MB\u001b[0m \u001b[31m1.4 MB/s\u001b[0m eta \u001b[36m0:00:00\u001b[0m\n",
            "\u001b[2K   \u001b[90m━━━━━━━━━━━━━━━━━━━━━━━━━━━━━━━━━━━━━━━━\u001b[0m \u001b[32m13.8/13.8 MB\u001b[0m \u001b[31m24.9 MB/s\u001b[0m eta \u001b[36m0:00:00\u001b[0m\n",
            "\u001b[2K   \u001b[90m━━━━━━━━━━━━━━━━━━━━━━━━━━━━━━━━━━━━━━━━\u001b[0m \u001b[32m24.6/24.6 MB\u001b[0m \u001b[31m44.9 MB/s\u001b[0m eta \u001b[36m0:00:00\u001b[0m\n",
            "\u001b[2K   \u001b[90m━━━━━━━━━━━━━━━━━━━━━━━━━━━━━━━━━━━━━━━━\u001b[0m \u001b[32m883.7/883.7 kB\u001b[0m \u001b[31m21.7 MB/s\u001b[0m eta \u001b[36m0:00:00\u001b[0m\n",
            "\u001b[2K   \u001b[90m━━━━━━━━━━━━━━━━━━━━━━━━━━━━━━━━━━━━━━━━\u001b[0m \u001b[32m664.8/664.8 MB\u001b[0m \u001b[31m2.2 MB/s\u001b[0m eta \u001b[36m0:00:00\u001b[0m\n",
            "\u001b[2K   \u001b[90m━━━━━━━━━━━━━━━━━━━━━━━━━━━━━━━━━━━━━━━━\u001b[0m \u001b[32m211.5/211.5 MB\u001b[0m \u001b[31m6.0 MB/s\u001b[0m eta \u001b[36m0:00:00\u001b[0m\n",
            "\u001b[2K   \u001b[90m━━━━━━━━━━━━━━━━━━━━━━━━━━━━━━━━━━━━━━━━\u001b[0m \u001b[32m56.3/56.3 MB\u001b[0m \u001b[31m12.7 MB/s\u001b[0m eta \u001b[36m0:00:00\u001b[0m\n",
            "\u001b[2K   \u001b[90m━━━━━━━━━━━━━━━━━━━━━━━━━━━━━━━━━━━━━━━━\u001b[0m \u001b[32m127.9/127.9 MB\u001b[0m \u001b[31m7.4 MB/s\u001b[0m eta \u001b[36m0:00:00\u001b[0m\n",
            "\u001b[2K   \u001b[90m━━━━━━━━━━━━━━━━━━━━━━━━━━━━━━━━━━━━━━━━\u001b[0m \u001b[32m207.5/207.5 MB\u001b[0m \u001b[31m5.4 MB/s\u001b[0m eta \u001b[36m0:00:00\u001b[0m\n",
            "\u001b[2K   \u001b[90m━━━━━━━━━━━━━━━━━━━━━━━━━━━━━━━━━━━━━━━━\u001b[0m \u001b[32m21.1/21.1 MB\u001b[0m \u001b[31m56.6 MB/s\u001b[0m eta \u001b[36m0:00:00\u001b[0m\n",
            "\u001b[2K   \u001b[90m━━━━━━━━━━━━━━━━━━━━━━━━━━━━━━━━━━━━━━━━\u001b[0m \u001b[32m30.7/30.7 MB\u001b[0m \u001b[31m51.2 MB/s\u001b[0m eta \u001b[36m0:00:00\u001b[0m\n",
            "\u001b[?25h"
          ]
        }
      ],
      "source": [
        "! pip install -q torch torchvision faiss-cpu pillow tqdm matplotlib numpy"
      ]
    },
    {
      "cell_type": "code",
      "execution_count": 3,
      "metadata": {
        "id": "G5jVtWJmn6zQ"
      },
      "outputs": [],
      "source": [
        "from flask import Flask, request, render_template_string\n",
        "from flask_ngrok import run_with_ngrok\n",
        "from werkzeug.utils import secure_filename\n",
        "import os"
      ]
    },
    {
      "cell_type": "code",
      "execution_count": 4,
      "metadata": {
        "id": "5VnXQdQUdgWJ"
      },
      "outputs": [],
      "source": [
        "import kagglehub\n",
        "import shutil\n",
        "import glob\n",
        "import matplotlib.pyplot as plt"
      ]
    },
    {
      "cell_type": "code",
      "source": [
        "import torch\n",
        "import numpy as np\n",
        "import faiss\n",
        "from PIL import Image\n",
        "from tqdm import tqdm\n",
        "from collections import defaultdict\n",
        "from torchvision import models, transforms"
      ],
      "metadata": {
        "id": "9-v3L0jo6iI4"
      },
      "execution_count": 14,
      "outputs": []
    },
    {
      "cell_type": "code",
      "source": [
        "import pandas as pd\n",
        "from collections import defaultdict\n",
        "import random\n",
        "import networkx as nx\n",
        "from sklearn.cluster import KMeans\n",
        "from sklearn.metrics.pairwise import cosine_similarity\n",
        "import shutil"
      ],
      "metadata": {
        "id": "Y52w-3LG8GQF"
      },
      "execution_count": 31,
      "outputs": []
    },
    {
      "cell_type": "markdown",
      "metadata": {
        "id": "ZRinHaxcdz51"
      },
      "source": [
        "#### Dataset Load"
      ]
    },
    {
      "cell_type": "code",
      "execution_count": 5,
      "metadata": {
        "colab": {
          "base_uri": "https://localhost:8080/"
        },
        "id": "HRThjfNtd3Bj",
        "outputId": "4e95c5cc-80ae-4f05-bb0b-33dec8e6bc3b"
      },
      "outputs": [
        {
          "output_type": "stream",
          "name": "stdout",
          "text": [
            "Path to dataset files: /kaggle/input/fashion-product-images-small\n"
          ]
        }
      ],
      "source": [
        "# Download latest version\n",
        "path = kagglehub.dataset_download(\"paramaggarwal/fashion-product-images-small\")\n",
        "\n",
        "print(\"Path to dataset files:\", path)"
      ]
    },
    {
      "cell_type": "code",
      "execution_count": 6,
      "metadata": {
        "colab": {
          "base_uri": "https://localhost:8080/"
        },
        "id": "6trAi4YgfGne",
        "outputId": "3a35f2a9-fa5b-4b00-a3b5-c2336f5bb595"
      },
      "outputs": [
        {
          "output_type": "stream",
          "name": "stdout",
          "text": [
            "Dataset copied to: /content/fashion_data\n"
          ]
        }
      ],
      "source": [
        "destination_path = \"/content/fashion_data\"\n",
        "\n",
        "if not os.path.exists(destination_path):\n",
        "    shutil.copytree(path, destination_path)\n",
        "    print(\"Dataset copied to:\", destination_path)\n",
        "else:\n",
        "    print(\"Destination folder already exists.\")"
      ]
    },
    {
      "cell_type": "code",
      "execution_count": 7,
      "metadata": {
        "colab": {
          "base_uri": "https://localhost:8080/"
        },
        "id": "vQK6jtERfGpd",
        "outputId": "4ded6d39-a81f-4cb2-f949-40cd3c38e7a3"
      },
      "outputs": [
        {
          "output_type": "stream",
          "name": "stdout",
          "text": [
            "images\tstyles.csv\n"
          ]
        }
      ],
      "source": [
        "!ls /content/fashion_data/myntradataset"
      ]
    },
    {
      "cell_type": "code",
      "execution_count": 8,
      "metadata": {
        "colab": {
          "base_uri": "https://localhost:8080/"
        },
        "id": "itWX7rzafGrY",
        "outputId": "0d0f8fce-b95d-4393-d9e1-bcd9c0afc55a"
      },
      "outputs": [
        {
          "output_type": "stream",
          "name": "stdout",
          "text": [
            "The size of the dataset is:\n",
            "\n",
            "634M\tfashion_data/myntradataset/\n"
          ]
        }
      ],
      "source": [
        "print(f\"The size of the dataset is:\\n\")\n",
        "!du -sh fashion_data/myntradataset/"
      ]
    },
    {
      "cell_type": "code",
      "execution_count": 9,
      "metadata": {
        "colab": {
          "base_uri": "https://localhost:8080/"
        },
        "id": "zxSx5490qRqD",
        "outputId": "eef72866-aff3-46ff-be5a-017e11eac667"
      },
      "outputs": [
        {
          "output_type": "stream",
          "name": "stdout",
          "text": [
            "44441\n"
          ]
        }
      ],
      "source": [
        "! ls fashion_data/myntradataset/images/ | wc -l"
      ]
    },
    {
      "cell_type": "code",
      "execution_count": 13,
      "metadata": {
        "colab": {
          "base_uri": "https://localhost:8080/",
          "height": 451
        },
        "id": "5Hk1FSk1qxYe",
        "outputId": "83e837f9-d468-438d-cb1c-faea50cfca2f"
      },
      "outputs": [
        {
          "output_type": "execute_result",
          "data": {
            "text/plain": [
              "<matplotlib.image.AxesImage at 0x7e7f4cb9ea50>"
            ]
          },
          "metadata": {},
          "execution_count": 13
        },
        {
          "output_type": "display_data",
          "data": {
            "text/plain": [
              "<Figure size 640x480 with 1 Axes>"
            ],
            "image/png": "[encoded data removed]"
          },
          "metadata": {}
        }
      ],
      "source": [
        "query_path = \"fashion_data/myntradataset/images/32551.jpg\"\n",
        "query_img = Image.open(query_path)\n",
        "plt.imshow(query_img)"
      ]
    },
    {
      "cell_type": "markdown",
      "metadata": {
        "id": "E9gC1uurhRvN"
      },
      "source": [
        "#### HNSW Approch"
      ]
    },
    {
      "cell_type": "code",
      "execution_count": 57,
      "metadata": {
        "id": "hFD0Z9NcfGul"
      },
      "outputs": [],
      "source": [
        "class VisualProductRecommender:\n",
        "    def __init__(self, img_dir, embedding_dim=512):\n",
        "        self.img_dir = img_dir\n",
        "        self.embedding_dim = embedding_dim\n",
        "        self.product_embeddings = {}\n",
        "        self.product_metadata = defaultdict(dict)\n",
        "        self.product_ids = []\n",
        "\n",
        "        # ResNet model initialization\n",
        "        resnet = models.resnet18(pretrained=True)\n",
        "        self.feature_extractor = torch.nn.Sequential(*list(resnet.children())[:-1])\n",
        "        self.feature_extractor.eval()\n",
        "        self.device = torch.device(\"cuda\" if torch.cuda.is_available() else \"cpu\")\n",
        "        self.feature_extractor.to(self.device)\n",
        "\n",
        "        # Image transform\n",
        "        self.transform = transforms.Compose([\n",
        "            transforms.Resize((224, 224)),\n",
        "            transforms.ToTensor(),\n",
        "            transforms.Normalize(mean=[0.485, 0.456, 0.406], std=[0.229, 0.224, 0.225]),\n",
        "        ])\n",
        "\n",
        "        # FAISS HNSW index\n",
        "        self.index = None\n",
        "        self.id_to_index = {}\n",
        "        self.index_to_id = {}\n",
        "\n",
        "    def load_and_process_images(self):\n",
        "        print(\"Processing images and extracting features...\")\n",
        "\n",
        "        image_files = [f for f in os.listdir(self.img_dir) if f.lower().endswith(('.png', '.jpg', '.jpeg'))]\n",
        "\n",
        "        embeddings_list = []\n",
        "\n",
        "        for idx, filename in enumerate(tqdm(image_files, desc=\"Extracting features\")):\n",
        "            product_id = os.path.splitext(filename)[0]\n",
        "            self.product_ids.append(product_id)\n",
        "            img_path = os.path.join(self.img_dir, filename)\n",
        "\n",
        "            # Load image and preprocess\n",
        "            try :\n",
        "              img = Image.open(img_path).convert(\"RGB\")\n",
        "              img_tensor = self.transform(img).unsqueeze(0).to(self.device)\n",
        "\n",
        "            except :\n",
        "              print(f\"Error loading image: {img_path}\")\n",
        "              continue\n",
        "\n",
        "            with torch.no_grad():\n",
        "                features = self.feature_extractor(img_tensor).squeeze().cpu().numpy()\n",
        "\n",
        "            self.product_embeddings[product_id] = features\n",
        "            embeddings_list.append(features)\n",
        "\n",
        "            # Map product_id to index and vice versa\n",
        "            self.id_to_index[product_id] = idx\n",
        "            self.index_to_id[idx] = product_id\n",
        "\n",
        "            self.product_metadata[product_id] = {\n",
        "                'filename': filename,\n",
        "                'path': img_path\n",
        "            }\n",
        "\n",
        "        print(f\"Processed {len(self.product_ids)} images total.\")\n",
        "\n",
        "        # Convert embeddings to numpy array and build FAISS HNSW index\n",
        "        embeddings_array = np.array(embeddings_list).astype('float32')\n",
        "        self._build_faiss_index(embeddings_array)\n",
        "\n",
        "\n",
        "    def _build_faiss_index(self, embeddings_array):\n",
        "        print(\"Building FAISS HNSW index...\")\n",
        "\n",
        "        # Create FAISS HNSW index\n",
        "        self.index = faiss.IndexHNSWFlat(self.embedding_dim, 16)  # M=16 (connections per layer)\n",
        "        self.index.hnsw.efConstruction = 100  # Higher values = more accurate but slower construction\n",
        "        self.index.hnsw.efSearch = 50  # Higher values = more accurate but slower search\n",
        "\n",
        "        # Add vectors to the index\n",
        "        self.index.add(embeddings_array)\n",
        "\n",
        "        print(f\"FAISS HNSW index built with {len(embeddings_array)} vectors.\")\n",
        "\n",
        "    def find_similar_products(self, query_pid, k=5):\n",
        "        \"\"\"Find similar products using FAISS HNSW index\"\"\"\n",
        "        if query_pid not in self.product_embeddings:\n",
        "            return []\n",
        "\n",
        "        # Get query embedding\n",
        "        query_emb = self.product_embeddings[query_pid].reshape(1, -1).astype('float32')\n",
        "\n",
        "        # Search for nearest neighbors\n",
        "        distances, indices = self.index.search(query_emb, k + 1)  # +1 to include self\n",
        "\n",
        "        # Process results (skip first result if it's the query itself)\n",
        "        start_idx = 1 if indices[0][0] == self.id_to_index[query_pid] else 0\n",
        "        results = []\n",
        "\n",
        "        for i in range(start_idx, min(k + start_idx, len(indices[0]))):\n",
        "            idx = indices[0][i]\n",
        "            pid = self.index_to_id[idx]\n",
        "            distance = distances[0][i]\n",
        "\n",
        "            results.append({\n",
        "                'product_id': pid,\n",
        "                'distance': distance,\n",
        "                'metadata': self.product_metadata[pid]\n",
        "            })\n",
        "\n",
        "        return results\n",
        "\n",
        "    def find_similar_by_image(self, image_path, k=5):\n",
        "        \"\"\"Find similar products using an image that's not in the index\"\"\"\n",
        "        # Load and preprocess image\n",
        "        img = Image.open(image_path).convert(\"RGB\")\n",
        "        img_tensor = self.transform(img).unsqueeze(0).to(self.device)\n",
        "\n",
        "        # Extract features\n",
        "        with torch.no_grad():\n",
        "            features = self.feature_extractor(img_tensor).squeeze().cpu().numpy()\n",
        "\n",
        "        # Convert to correct format for FAISS\n",
        "        query_emb = features.reshape(1, -1).astype('float32')\n",
        "\n",
        "        # Search for nearest neighbors\n",
        "        distances, indices = self.index.search(query_emb, k)\n",
        "\n",
        "        # Process results\n",
        "        results = []\n",
        "        for i in range(len(indices[0])):\n",
        "            idx = indices[0][i]\n",
        "            pid = self.index_to_id[idx]\n",
        "            distance = distances[0][i]\n",
        "\n",
        "            results.append({\n",
        "                'product_id': pid,\n",
        "                'distance': distance,\n",
        "                'metadata': self.product_metadata[pid]\n",
        "            })\n",
        "\n",
        "        return results\n",
        "\n",
        "    def visualize_results(self, query_path, results):\n",
        "        \"\"\"Visualize query image and similar products\"\"\"\n",
        "        import matplotlib.pyplot as plt\n",
        "\n",
        "        n = len(results) + 1\n",
        "        fig, axes = plt.subplots(1, n, figsize=(n * 4, 5))\n",
        "\n",
        "        # Display query image\n",
        "        query_img = Image.open(query_path)\n",
        "        axes[0].imshow(query_img)\n",
        "        axes[0].set_title(\"Query Image\")\n",
        "        axes[0].axis('off')\n",
        "\n",
        "        # Display similar images\n",
        "        for i, rec in enumerate(results):\n",
        "            img = Image.open(rec['metadata']['path'])\n",
        "            axes[i+1].imshow(img)\n",
        "            axes[i+1].set_title(f\"Match {i+1}\\nDistance: {rec['distance']:.4f}\")\n",
        "            axes[i+1].axis('off')\n",
        "\n",
        "        plt.tight_layout()\n",
        "        plt.show()\n",
        "\n",
        "    def batch_index_images(self, img_dir, batch_size=100):\n",
        "        \"\"\"Process and index images in batches for large datasets\"\"\"\n",
        "        image_files = [f for f in os.listdir(img_dir) if f.lower().endswith(('.png', '.jpg', '.jpeg'))]\n",
        "\n",
        "        for i in range(0, len(image_files), batch_size):\n",
        "            batch_files = image_files[i:i+batch_size]\n",
        "            embeddings_list = []\n",
        "\n",
        "            for idx, filename in enumerate(tqdm(batch_files, desc=f\"Processing batch {i//batch_size + 1}\")):\n",
        "                product_id = os.path.splitext(filename)[0]\n",
        "                global_idx = i + idx\n",
        "\n",
        "                self.product_ids.append(product_id)\n",
        "                img_path = os.path.join(img_dir, filename)\n",
        "\n",
        "                # Process image\n",
        "                img = Image.open(img_path).convert(\"RGB\")\n",
        "                img_tensor = self.transform(img).unsqueeze(0).to(self.device)\n",
        "\n",
        "                with torch.no_grad():\n",
        "                    features = self.feature_extractor(img_tensor).squeeze().cpu().numpy()\n",
        "\n",
        "                self.product_embeddings[product_id] = features\n",
        "                embeddings_list.append(features)\n",
        "\n",
        "                # Update mappings\n",
        "                self.id_to_index[product_id] = global_idx\n",
        "                self.index_to_id[global_idx] = product_id\n",
        "\n",
        "                self.product_metadata[product_id] = {\n",
        "                    'filename': filename,\n",
        "                    'path': img_path\n",
        "                }\n",
        "\n",
        "            # Add batch to index\n",
        "            embeddings_array = np.array(embeddings_list).astype('float32')\n",
        "\n",
        "            # For first batch, create the index\n",
        "            if i == 0:\n",
        "                self.index = faiss.IndexHNSWFlat(self.embedding_dim, 16)\n",
        "                self.index.hnsw.efConstruction = 100\n",
        "                self.index.hnsw.efSearch = 50\n",
        "\n",
        "            # Add vectors to index\n",
        "            self.index.add(embeddings_array)\n",
        "            print(f\"Added batch {i//batch_size + 1} to index, total vectors: {self.index.ntotal}\")\n",
        "\n",
        "    def save_index(self, filepath):\n",
        "        \"\"\"Save the FAISS index and metadata to disk\"\"\"\n",
        "        # Save the FAISS index\n",
        "        faiss.write_index(self.index, filepath)\n",
        "        print(f\"FAISS index saved to {filepath}\")\n",
        "\n",
        "        # Save metadata (mappings and product information)\n",
        "        import pickle\n",
        "        metadata_path = f\"{filepath}_metadata.pkl\"\n",
        "        with open(metadata_path, 'wb') as f:\n",
        "            metadata = {\n",
        "                'id_to_index': self.id_to_index,\n",
        "                'index_to_id': self.index_to_id,\n",
        "                'product_metadata': self.product_metadata,\n",
        "                'product_ids': self.product_ids,\n",
        "                'product_embeddings': self.product_embeddings\n",
        "            }\n",
        "            pickle.dump(metadata, f)\n",
        "        print(f\"Metadata saved to {metadata_path}\")\n",
        "\n",
        "    def load_index(self, filepath):\n",
        "        \"\"\"Load the FAISS index and metadata from disk\"\"\"\n",
        "        # Load the FAISS index\n",
        "        self.index = faiss.read_index(filepath)\n",
        "        print(f\"Loaded FAISS index with {self.index.ntotal} vectors\")\n",
        "\n",
        "        # Load metadata\n",
        "        import pickle\n",
        "        metadata_path = f\"{filepath}_metadata.pkl\"\n",
        "        with open(metadata_path, 'rb') as f:\n",
        "            metadata = pickle.load(f)\n",
        "            self.id_to_index = metadata['id_to_index']\n",
        "            self.index_to_id = metadata['index_to_id']\n",
        "            self.product_metadata = metadata['product_metadata']\n",
        "            self.product_ids = metadata['product_ids']\n",
        "            self.product_embeddings = metadata['product_embeddings']\n",
        "        print(f\"Metadata loaded: {len(self.product_ids)} products\")"
      ]
    },
    {
      "cell_type": "code",
      "execution_count": 58,
      "metadata": {
        "colab": {
          "base_uri": "https://localhost:8080/"
        },
        "id": "stMytD7VhVcr",
        "outputId": "437b0778-3865-406f-d8fd-26e1b6233ec8"
      },
      "outputs": [
        {
          "output_type": "stream",
          "name": "stderr",
          "text": [
            "/usr/local/lib/python3.11/dist-packages/torchvision/models/_utils.py:208: UserWarning: The parameter 'pretrained' is deprecated since 0.13 and may be removed in the future, please use 'weights' instead.\n",
            "  warnings.warn(\n",
            "/usr/local/lib/python3.11/dist-packages/torchvision/models/_utils.py:223: UserWarning: Arguments other than a weight enum or `None` for 'weights' are deprecated since 0.13 and may be removed in the future. The current behavior is equivalent to passing `weights=ResNet18_Weights.IMAGENET1K_V1`. You can also use `weights=ResNet18_Weights.DEFAULT` to get the most up-to-date weights.\n",
            "  warnings.warn(msg)\n"
          ]
        }
      ],
      "source": [
        "# Load index in a new session\n",
        "hnsw_recommender = VisualProductRecommender(img_dir='fashion_data/myntradataset/images/')"
      ]
    },
    {
      "cell_type": "code",
      "execution_count": 59,
      "metadata": {
        "colab": {
          "base_uri": "https://localhost:8080/"
        },
        "id": "Qk_yDBr_iTv3",
        "outputId": "27a96218-e0f1-4d59-e29a-2f71bf89a3cf"
      },
      "outputs": [
        {
          "output_type": "stream",
          "name": "stdout",
          "text": [
            "Loaded FAISS index with 40562 vectors\n",
            "Metadata loaded: 40563 products\n"
          ]
        }
      ],
      "source": [
        "hnsw_recommender.load_index('/content/product_index.faiss')"
      ]
    },
    {
      "cell_type": "code",
      "execution_count": 70,
      "metadata": {
        "id": "YU0SGhTnhVed"
      },
      "outputs": [],
      "source": [
        "similar_products = hnsw_recommender.find_similar_products('51624', k=5)\n",
        "for each in similar_products:\n",
        "  each['metadata']['path'] = each['metadata']['path'].replace('/content/drive/MyDrive/MLBD/Project/data/', '/content/fashion_data/myntradataset/')"
      ]
    },
    {
      "cell_type": "code",
      "execution_count": 71,
      "metadata": {
        "colab": {
          "base_uri": "https://localhost:8080/",
          "height": 234
        },
        "id": "NvZT0BFSvA6Y",
        "outputId": "b38462f9-6822-432d-fb13-a530729a1164"
      },
      "outputs": [
        {
          "output_type": "display_data",
          "data": {
            "text/plain": [
              "<Figure size 2400x500 with 6 Axes>"
            ],
            "image/png": "[encoded data removed]"
          },
          "metadata": {}
        }
      ],
      "source": [
        "query_path = '/content/fashion_data/myntradataset/images/33914.jpg'\n",
        "hnsw_recommender.visualize_results(query_path, similar_products)"
      ]
    },
    {
      "cell_type": "code",
      "execution_count": 66,
      "metadata": {
        "id": "_sqeWrnwhVjK"
      },
      "outputs": [],
      "source": [
        "similar_products = hnsw_recommender.find_similar_products('49019', k=5)\n",
        "for each in similar_products:\n",
        "  each['metadata']['path'] = each['metadata']['path'].replace('/content/drive/MyDrive/MLBD/Project/data/', '/content/fashion_data/myntradataset/')"
      ]
    },
    {
      "cell_type": "code",
      "execution_count": 67,
      "metadata": {
        "id": "gL_TqvbixQbO",
        "colab": {
          "base_uri": "https://localhost:8080/",
          "height": 234
        },
        "outputId": "fe2f4652-32dc-401c-b12f-ab194579ffad"
      },
      "outputs": [
        {
          "output_type": "display_data",
          "data": {
            "text/plain": [
              "<Figure size 2400x500 with 6 Axes>"
            ],
            "image/png": "[encoded data removed]"
          },
          "metadata": {}
        }
      ],
      "source": [
        "query_path = '/content/fashion_data/myntradataset/images/49019.jpg'\n",
        "hnsw_recommender.visualize_results(query_path, similar_products)"
      ]
    },
    {
      "cell_type": "markdown",
      "source": [
        "#### LSH Approch"
      ],
      "metadata": {
        "id": "WV1j6OpBvq8k"
      }
    },
    {
      "cell_type": "code",
      "source": [
        "class VisualProductRecommender_LSH:\n",
        "  def __init__(self, img_dir, embedding_dim=512, n_clusters=100, n_hash_tables=5, hash_size=10, seed=143):\n",
        "    self.seed = seed\n",
        "    random.seed(seed)\n",
        "    np.random.seed(seed)\n",
        "    torch.manual_seed(seed)\n",
        "    if torch.cuda.is_available():\n",
        "        torch.cuda.manual_seed_all(seed)\n",
        "    self.img_dir = img_dir\n",
        "    self.embedding_dim = embedding_dim\n",
        "    self.product_embeddings = {}\n",
        "    self.product_metadata = defaultdict(dict)\n",
        "    self.product_ids = []\n",
        "    self.n_clusters = n_clusters\n",
        "    self.n_hash_tables = n_hash_tables\n",
        "    self.hash_size = hash_size\n",
        "\n",
        "    # ResNet50 model initialisation\n",
        "    resnet = models.resnet18(pretrained=True)\n",
        "    self.feature_extractor = torch.nn.Sequential(*list(resnet.children())[:-1])\n",
        "    self.feature_extractor.eval()\n",
        "    self.device = torch.device(\"cuda\" if torch.cuda.is_available() else \"cpu\")\n",
        "    self.feature_extractor.to(self.device)\n",
        "\n",
        "    # Image transform\n",
        "    self.transform = transforms.Compose([\n",
        "            transforms.Resize((224, 224)),\n",
        "            transforms.ToTensor(),\n",
        "            transforms.Normalize(mean=[0.485, 0.456, 0.406], std=[0.229, 0.224, 0.225]),\n",
        "        ])\n",
        "\n",
        "    # LSH components\n",
        "    self.hash_tables = [defaultdict(list) for _ in range(n_hash_tables)]\n",
        "    self.random_planes = [np.random.randn(embedding_dim, hash_size) for _ in range(n_hash_tables)]\n",
        "\n",
        "    # Clustering\n",
        "    self.cluster_model = KMeans(n_clusters=n_clusters, random_state=143)\n",
        "    self.product_clusters = {}\n",
        "\n",
        "    # Graph\n",
        "    self.product_graph = None\n",
        "    self.pagerank_scores = {}\n",
        "    self.cluster_pagerank = {}\n",
        "\n",
        "  def _save_artifacts(self, save_dir=\"/content/drive/MyDrive/MLBD/Project/data/artifacts/\"):\n",
        "      os.makedirs(save_dir, exist_ok=True)\n",
        "\n",
        "      with open(os.path.join(save_dir, 'random_planes.pkl'), 'wb') as f:\n",
        "          pickle.dump(self.random_planes, f)\n",
        "\n",
        "      with open(os.path.join(save_dir, 'hash_tables.pkl'), 'wb') as f:\n",
        "          pickle.dump(self.hash_tables, f)\n",
        "\n",
        "      with open(os.path.join(save_dir, 'product_embeddings.pkl'), 'wb') as f:\n",
        "          pickle.dump(self.product_embeddings, f)\n",
        "\n",
        "      with open(os.path.join(save_dir, 'product_metadata.pkl'), 'wb') as f:\n",
        "          pickle.dump(self.product_metadata, f)\n",
        "\n",
        "      with open(os.path.join(save_dir, 'product_clusters.pkl'), 'wb') as f:\n",
        "          pickle.dump(self.product_clusters, f)\n",
        "\n",
        "      with open(os.path.join(save_dir, 'pagerank_scores.pkl'), 'wb') as f:\n",
        "          pickle.dump(self.pagerank_scores, f)\n",
        "\n",
        "      with open(os.path.join(save_dir, 'cluster_pagerank.pkl'), 'wb') as f:\n",
        "          pickle.dump(self.cluster_pagerank, f)\n",
        "\n",
        "      print(\"Artifacts saved.\")\n",
        "\n",
        "  def _load_artifacts(self, save_dir=\"/content/drive/MyDrive/MLBD/Project/data/artifacts/\"):\n",
        "      with open(os.path.join(save_dir, 'random_planes.pkl'), 'rb') as f:\n",
        "          self.random_planes = pickle.load(f)\n",
        "\n",
        "      with open(os.path.join(save_dir, 'combined_hash_tables.pkl'), 'rb') as f:\n",
        "          self.hash_tables = pickle.load(f)\n",
        "\n",
        "      with open(os.path.join(save_dir, 'combined_embeddings.pkl'), 'rb') as f:\n",
        "          self.product_embeddings = pickle.load(f)\n",
        "          self.product_ids = list(self.product_embeddings.keys())\n",
        "\n",
        "      with open(os.path.join(save_dir, 'combined_product_metadata.pkl'), 'rb') as f:\n",
        "          self.product_metadata = pickle.load(f)\n",
        "\n",
        "      with open(os.path.join(save_dir, 'product_clusters.pkl'), 'rb') as f:\n",
        "          self.product_clusters = pickle.load(f)\n",
        "\n",
        "      with open(os.path.join(save_dir, 'pagerank_scores.pkl'), 'rb') as f:\n",
        "          self.pagerank_scores = pickle.load(f)\n",
        "\n",
        "      with open(os.path.join(save_dir, 'cluster_pagerank.pkl'), 'rb') as f:\n",
        "          self.cluster_pagerank = pickle.load(f)\n",
        "\n",
        "      with open(os.path.join(save_dir, 'mapping_dict.pkl'), 'rb') as f:\n",
        "        global mapping_dict\n",
        "        mapping_dict = pickle.load(f)\n",
        "\n",
        "      print(\"Artifacts loaded.\")\n",
        "\n",
        "  def load_and_process_images(self):\n",
        "        print(\"Processing images and extracting features...\")\n",
        "\n",
        "        image_files = [f for f in os.listdir(self.img_dir) if f.lower().endswith(('.png', '.jpg', '.jpeg'))]\n",
        "\n",
        "        # Taking a sample of first 10 images\n",
        "        # image_files = image_files[:10]\n",
        "\n",
        "        for filename in tqdm(image_files, desc=\"Extracting features\"):\n",
        "            product_id = os.path.splitext(filename)[0]\n",
        "            self.product_ids.append(product_id)\n",
        "            img_path = os.path.join(self.img_dir, filename)\n",
        "\n",
        "            # Load image and preprocess\n",
        "            img = Image.open(img_path).convert(\"RGB\")\n",
        "            img_tensor = self.transform(img).unsqueeze(0).to(self.device)\n",
        "\n",
        "            with torch.no_grad():\n",
        "                features = self.feature_extractor(img_tensor).squeeze().cpu().numpy()\n",
        "            features = features / np.linalg.norm(features)\n",
        "            self.product_embeddings[product_id] = features\n",
        "            self.product_metadata[product_id] = {\n",
        "                'filename': filename,\n",
        "                'path': img_path,\n",
        "                'category': mapping_dict.get(product_id)\n",
        "            }\n",
        "\n",
        "        print(f\"Processed {len(self.product_ids)} images total.\")\n",
        "\n",
        "        self._build_lsh_tables()\n",
        "        self._cluster_products()\n",
        "        self._build_product_graph()\n",
        "        self._compute_pagerank()\n",
        "        self._save_artifacts()\n",
        "\n",
        "  def _build_lsh_tables(self):\n",
        "    \"\"\"\n",
        "\n",
        "    \"\"\"\n",
        "    print(\"Building LSH tables...\")\n",
        "    for pid in self.product_ids:\n",
        "        emb = self.product_embeddings[pid]\n",
        "        for i in range(self.n_hash_tables):\n",
        "            projections = np.dot(emb, self.random_planes[i])\n",
        "            hash_code = ''.join(['1' if x > 0 else '0' for x in projections])\n",
        "            self.hash_tables[i][hash_code].append(pid)\n",
        "    print(\"LSH tables are built\")\n",
        "    print(f\"Below are the final hask tables: {self.hash_tables}\")\n",
        "\n",
        "  def _cluster_products(self):\n",
        "        print(\"Clustering products...\")\n",
        "        embeddings = np.array([self.product_embeddings[pid] for pid in self.product_ids])\n",
        "        cluster_labels = self.cluster_model.fit_predict(embeddings)\n",
        "        for i, pid in enumerate(self.product_ids):\n",
        "            self.product_clusters[pid] = cluster_labels[i]\n",
        "            self.product_metadata[pid]['cluster'] = int(cluster_labels[i])\n",
        "\n",
        "  def _build_product_graph(self):\n",
        "        print(\"Building product graph...\")\n",
        "        G = nx.DiGraph()\n",
        "        for pid in self.product_ids:\n",
        "            G.add_node(pid, embedding=self.product_embeddings[pid])\n",
        "\n",
        "        for pid1 in self.product_ids:\n",
        "            cluster = self.product_clusters[pid1]\n",
        "            candidates = [pid for pid in self.product_ids if self.product_clusters[pid] == cluster and pid != pid1]\n",
        "            for pid2 in random.sample(candidates, min(5, len(candidates))):\n",
        "                sim = cosine_similarity([self.product_embeddings[pid1]], [self.product_embeddings[pid2]])[0][0]\n",
        "                if sim > 0.5:\n",
        "                    G.add_edge(pid1, pid2, weight=sim)\n",
        "\n",
        "        self.product_graph = G\n",
        "        print(\"Product graph is built\")\n",
        "        # self._visualize_product_graph(self.product_graph, num_nodes=10)\n",
        "\n",
        "\n",
        "  def _visualize_product_graph(self, product_graph, num_nodes=10):\n",
        "      \"\"\"\n",
        "      Visualize a subgraph of the product graph with up to `num_nodes` nodes.\n",
        "      \"\"\"\n",
        "      print(f\"Visualizing a subgraph with up to {num_nodes} nodes...\")\n",
        "\n",
        "      # Extract a subgraph with the first `num_nodes` nodes (for clarity)\n",
        "      nodes_subset = list(product_graph.nodes)[:num_nodes]\n",
        "      subgraph = product_graph.subgraph(nodes_subset)\n",
        "\n",
        "      pos = nx.spring_layout(subgraph, seed=42)  # Layout algorithm\n",
        "      edge_weights = [subgraph[u][v]['weight'] for u, v in subgraph.edges]\n",
        "\n",
        "      plt.figure(figsize=(12, 8))\n",
        "      nx.draw_networkx_nodes(subgraph, pos, node_size=300, node_color='skyblue', alpha=0.9)\n",
        "      nx.draw_networkx_edges(subgraph, pos, width=edge_weights, alpha=0.5)\n",
        "      nx.draw_networkx_labels(subgraph, pos, font_size=10)\n",
        "\n",
        "      plt.title(\"Product Similarity Graph (Subgraph)\")\n",
        "      plt.axis('off')\n",
        "      plt.show()\n",
        "\n",
        "  def _compute_pagerank(self):\n",
        "\n",
        "        print(\"Computing PageRank scores...\")\n",
        "        self.pagerank_scores = nx.pagerank(self.product_graph, alpha=0.85)\n",
        "\n",
        "        for cluster_id in range(self.n_clusters):\n",
        "            personalization = {}\n",
        "            for pid in self.product_ids:\n",
        "                personalization[pid] = 1.0 if self.product_clusters[pid] == cluster_id else 0.1\n",
        "\n",
        "            total = sum(personalization.values())\n",
        "            personalization = {k: v / total for k, v in personalization.items()}\n",
        "            self.cluster_pagerank[cluster_id] = nx.pagerank(self.product_graph, alpha=0.85, personalization=personalization)\n",
        "\n",
        "  def find_similar_via_lsh(self, query_pid, k=5):\n",
        "        if query_pid not in self.product_embeddings:\n",
        "            return []\n",
        "\n",
        "        emb = self.product_embeddings[query_pid]\n",
        "        candidates = set()\n",
        "\n",
        "        for i in range(self.n_hash_tables):\n",
        "            projections = np.dot(emb, self.random_planes[i])\n",
        "            hash_code = ''.join(['1' if x > 0 else '0' for x in projections])\n",
        "            bucket = self.hash_tables[i].get(hash_code, [])\n",
        "            candidates.update(pid for pid in bucket if pid != query_pid)\n",
        "\n",
        "        # if len(candidates) < k:\n",
        "        #     cluster = self.product_clusters[query_pid]\n",
        "        #     fallback = [pid for pid in self.product_ids if self.product_clusters[pid] == cluster and pid != query_pid]\n",
        "        #     candidates.update(random.sample(fallback, min(k - len(candidates), len(fallback))))\n",
        "\n",
        "        similarities = []\n",
        "        for cid in candidates:\n",
        "            sim = cosine_similarity([emb], [self.product_embeddings[cid]])[0][0]\n",
        "            similarities.append((cid, sim))\n",
        "\n",
        "        similarities.sort(key=lambda x: x[1], reverse=True)\n",
        "        results = []\n",
        "        for pid, sim in similarities[:k]:\n",
        "            results.append({\n",
        "                'product_id': pid,\n",
        "                'similarity': sim,\n",
        "                # 'pagerank': self.pagerank_scores[pid],\n",
        "                'metadata': self.product_metadata[pid]\n",
        "            })\n",
        "\n",
        "        return results\n",
        "\n",
        "  def setup_for_inference(self, artifact_path=\"/content/drive/MyDrive/MLBD/Project/data/artifacts/\"):\n",
        "      self._load_artifacts(artifact_path)\n",
        "\n",
        "  def get_recommendations(self, query_pid, k=5, use_topic_pagerank=True):\n",
        "            if query_pid not in self.product_embeddings:\n",
        "                return []\n",
        "\n",
        "            candidates = self.find_similar_via_lsh(query_pid, k=k*2)\n",
        "            # cluster = self.product_clusters[query_pid]\n",
        "            # pagerank_dict = self.cluster_pagerank[cluster] if use_topic_pagerank else self.pagerank_scores\n",
        "\n",
        "            for item in candidates:\n",
        "                pid = item['product_id']\n",
        "                score = 1 * item['similarity']\n",
        "                # + 0.3 * pagerank_dict[pid]\n",
        "                item['combined_score'] = score\n",
        "\n",
        "            candidates.sort(key=lambda x: x['combined_score'], reverse=True)\n",
        "            return candidates[:k]\n",
        "\n",
        "  def metrics(self, query_id, recommendations):\n",
        "    query_category = mapping_dict.get(query_id)\n",
        "    rec_categories = [mapping_dict.get(rec['product_id']) for rec in recommendations]\n",
        "    precision = sum(1 for rec in recommendations if mapping_dict.get(rec['product_id']) == query_category) / len(recommendations)\n",
        "    # recall = sum(1 for rec in recommendations if mapping_dict.get(rec['product_id']) == query_category) / len([v for v in mapping_dict.values() if v == query_category])\n",
        "    recall = 1 if any(mapping_dict.get(rec['product_id']) == query_category for rec in recommendations) else 0\n",
        "    f1_score = (2 * precision * recall / (precision + recall)) if (precision + recall) > 0 else 0\n",
        "    return precision, recall, f1_score\n",
        "\n",
        "\n",
        "  def visualize_recommendations(self, query_pid, recommendations):\n",
        "        precision, recall, f1 = self.metrics(query_pid, recommendations)\n",
        "        print(f\"\\nEvaluation Metrics:\")\n",
        "        print(f\"Precision: {precision:.2f}\")\n",
        "        print(f\"Recall:    {recall:.2f}\")\n",
        "        print(f\"F1 Score:  {f1:.2f}\\n\")\n",
        "        n = len(recommendations) + 1\n",
        "        fig, axes = plt.subplots(1, n, figsize=(n * 4, 5))\n",
        "        # query_img = Image.open(self.product_metadata[query_pid]['path'])\n",
        "        query_path = self.product_metadata[query_pid]['path'].replace('/content/drive/MyDrive/MLBD/Project/data/', '/content/fashion_data/myntradataset/')\n",
        "        query_img = Image.open(query_path)\n",
        "        axes[0].imshow(query_img)\n",
        "        # axes[0].set_title(f\"Query\\n{query_pid}\\nCluster: {self.product_clusters[query_pid]}\")\n",
        "        axes[0].set_title(f\"Query\\n{query_pid}\\n{self.product_metadata[query_pid]['category']}\")\n",
        "        axes[0].axis('off')\n",
        "\n",
        "        for i, rec in enumerate(recommendations):\n",
        "            img = Image.open(rec['metadata']['path'])\n",
        "            axes[i+1].imshow(img)\n",
        "            axes[i+1].set_title(f\"Recc\\n{rec['product_id']}\\nSim: {rec['similarity']:.2f}\")\n",
        "            # axes[i+1].set_title(f\"Recc\\n{rec['product_id']}\\nSim: {rec['similarity']:.2f}\\nPR: {rec['pagerank']:.2f}\")\n",
        "            axes[i+1].axis('off')\n",
        "\n",
        "        plt.tight_layout()\n",
        "        plt.show()"
      ],
      "metadata": {
        "id": "MjOoaXQavtht"
      },
      "execution_count": 38,
      "outputs": []
    },
    {
      "cell_type": "code",
      "source": [
        "# os.makedirs(\"/content/drive/MyDrive/MLBD/Project/data/artifacts/\")"
      ],
      "metadata": {
        "id": "d_xVX0c5vtjx"
      },
      "execution_count": 18,
      "outputs": []
    },
    {
      "cell_type": "code",
      "source": [
        "# import glob\n",
        "# glob.glob(\"/content/drive/MyDrive/MLBD/Project/data/artifacts/*\")"
      ],
      "metadata": {
        "id": "YaeVmjQhvtls"
      },
      "execution_count": 19,
      "outputs": []
    },
    {
      "cell_type": "code",
      "source": [
        "data_dir = \"/content/drive/MyDrive/MLBD/Project/data/images/\"\n",
        "lsh_recommender = VisualProductRecommender_LSH(data_dir)"
      ],
      "metadata": {
        "id": "Xk6O0D6zvtny"
      },
      "execution_count": 44,
      "outputs": []
    },
    {
      "cell_type": "code",
      "source": [
        "lsh_recommender.setup_for_inference(artifact_path = \"/content/drive/MyDrive/MLBD/Project/data/artifacts\")"
      ],
      "metadata": {
        "colab": {
          "base_uri": "https://localhost:8080/"
        },
        "id": "a2IORZfDvtrH",
        "outputId": "16516986-5649-4194-a06b-fc0e40b6ea07"
      },
      "execution_count": 45,
      "outputs": [
        {
          "output_type": "stream",
          "name": "stdout",
          "text": [
            "Artifacts loaded.\n"
          ]
        }
      ]
    },
    {
      "cell_type": "code",
      "source": [
        "similar_products_lsh = lsh_recommender.get_recommendations(query_pid='8808', k=2)\n",
        "similar_products_lsh"
      ],
      "metadata": {
        "colab": {
          "base_uri": "https://localhost:8080/"
        },
        "id": "32M0qeZJyLkb",
        "outputId": "5c680b64-619e-480b-84b0-fdceb1cc6e62"
      },
      "execution_count": 46,
      "outputs": [
        {
          "output_type": "execute_result",
          "data": {
            "text/plain": [
              "[{'product_id': '7174',\n",
              "  'similarity': np.float32(1.0000002),\n",
              "  'metadata': {'filename': '7174.jpg',\n",
              "   'path': '/content/drive/MyDrive/MLBD/Project/data/images/7174.jpg',\n",
              "   'category': 'Shirts',\n",
              "   'cluster': 97},\n",
              "  'combined_score': np.float32(1.0000002)},\n",
              " {'product_id': '9588',\n",
              "  'similarity': np.float32(0.96326935),\n",
              "  'metadata': {'filename': '9588.jpg',\n",
              "   'path': '/content/drive/MyDrive/MLBD/Project/data/images/9588.jpg',\n",
              "   'category': 'Shirts',\n",
              "   'cluster': 97},\n",
              "  'combined_score': np.float32(0.96326935)}]"
            ]
          },
          "metadata": {},
          "execution_count": 46
        }
      ]
    },
    {
      "cell_type": "code",
      "source": [
        "for each in similar_products_lsh:\n",
        "  each['metadata']['path'] = each['metadata']['path'].replace('/content/drive/MyDrive/MLBD/Project/data/', '/content/fashion_data/myntradataset/')\n",
        "similar_products_lsh"
      ],
      "metadata": {
        "colab": {
          "base_uri": "https://localhost:8080/"
        },
        "id": "segMmX8i1BI2",
        "outputId": "93707a84-6f87-4def-afd9-94f81e6f456b"
      },
      "execution_count": 47,
      "outputs": [
        {
          "output_type": "execute_result",
          "data": {
            "text/plain": [
              "[{'product_id': '7174',\n",
              "  'similarity': np.float32(1.0000002),\n",
              "  'metadata': {'filename': '7174.jpg',\n",
              "   'path': '/content/fashion_data/myntradataset/images/7174.jpg',\n",
              "   'category': 'Shirts',\n",
              "   'cluster': 97},\n",
              "  'combined_score': np.float32(1.0000002)},\n",
              " {'product_id': '9588',\n",
              "  'similarity': np.float32(0.96326935),\n",
              "  'metadata': {'filename': '9588.jpg',\n",
              "   'path': '/content/fashion_data/myntradataset/images/9588.jpg',\n",
              "   'category': 'Shirts',\n",
              "   'cluster': 97},\n",
              "  'combined_score': np.float32(0.96326935)}]"
            ]
          },
          "metadata": {},
          "execution_count": 47
        }
      ]
    },
    {
      "cell_type": "code",
      "source": [],
      "metadata": {
        "id": "OXUlbkMZ-Sf0"
      },
      "execution_count": null,
      "outputs": []
    },
    {
      "cell_type": "code",
      "source": [
        "lsh_recommender.visualize_recommendations('8808', similar_products_lsh)  #10017"
      ],
      "metadata": {
        "colab": {
          "base_uri": "https://localhost:8080/",
          "height": 576
        },
        "id": "opzw2facyLme",
        "outputId": "c2cc3db3-049d-43ea-ec46-6ffe4210f23f"
      },
      "execution_count": 48,
      "outputs": [
        {
          "output_type": "stream",
          "name": "stdout",
          "text": [
            "\n",
            "Evaluation Metrics:\n",
            "Precision: 1.00\n",
            "Recall:    1.00\n",
            "F1 Score:  1.00\n",
            "\n"
          ]
        },
        {
          "output_type": "display_data",
          "data": {
            "text/plain": [
              "<Figure size 1200x500 with 3 Axes>"
            ],
            "image/png": "[encoded data removed]"
          },
          "metadata": {}
        }
      ]
    },
    {
      "cell_type": "code",
      "source": [
        "# Average Precision: 0.74\n",
        "# Average Recall: 0.91\n",
        "# Average F1 Score: 0.79 # Select 200 random product_ids"
      ],
      "metadata": {
        "id": "keDoju0cyLol"
      },
      "execution_count": null,
      "outputs": []
    },
    {
      "cell_type": "code",
      "source": [],
      "metadata": {
        "id": "Ev3pVpsWyLrR"
      },
      "execution_count": null,
      "outputs": []
    },
    {
      "cell_type": "code",
      "source": [],
      "metadata": {
        "id": "Sv_TB5PhyLup"
      },
      "execution_count": null,
      "outputs": []
    },
    {
      "cell_type": "markdown",
      "metadata": {
        "id": "VdA02o1On9HR"
      },
      "source": [
        "#### Authenticate ngrok"
      ]
    },
    {
      "cell_type": "code",
      "execution_count": 33,
      "metadata": {
        "id": "oBiu7HU1jbLH"
      },
      "outputs": [],
      "source": [
        "token = \"2vx7a6ZIEf417RSZO3gUptfvcfq_5Xiv2VZwB2Kc8e8oUUZ6P\"\n",
        "from pyngrok import ngrok\n",
        "\n",
        "# Replace YOUR_AUTHTOKEN_HERE with your actual token (inside quotes!)\n",
        "ngrok.set_auth_token(token)"
      ]
    },
    {
      "cell_type": "markdown",
      "metadata": {
        "id": "I0li2ff4oCmP"
      },
      "source": [
        "#### Flask App"
      ]
    },
    {
      "cell_type": "markdown",
      "metadata": {
        "id": "2YKVRuY9rYil"
      },
      "source": [
        "##### HTML"
      ]
    },
    {
      "cell_type": "code",
      "execution_count": 52,
      "metadata": {
        "id": "cBTmHCQAoI0v"
      },
      "outputs": [],
      "source": [
        "HTML_TEMPLATE = \"\"\"\n",
        "<!DOCTYPE html>\n",
        "<html lang=\"en\">\n",
        "<head>\n",
        "    <meta charset=\"UTF-8\">\n",
        "    <title>Product Recommender</title>\n",
        "    <style>\n",
        "        body {\n",
        "            font-family: Arial, sans-serif;\n",
        "            background: linear-gradient(to right, #f7f8fc, #e0eafc);\n",
        "            margin: 0;\n",
        "            padding: 0;\n",
        "            overflow-x: hidden;\n",
        "        }\n",
        "        .container {\n",
        "            max-width: 900px;\n",
        "            margin: auto;\n",
        "            padding: 20px;\n",
        "            text-align: center;\n",
        "        }\n",
        "        h1 {\n",
        "            color: #333;\n",
        "            margin-bottom: 30px;\n",
        "        }\n",
        "        form {\n",
        "            margin-bottom: 40px;\n",
        "        }\n",
        "        input[type=\"text\"] {\n",
        "            padding: 10px;\n",
        "            width: 300px;\n",
        "            border: 1px solid #ccc;\n",
        "            border-radius: 8px;\n",
        "            margin-bottom: 20px;\n",
        "        }\n",
        "        .btn-group {\n",
        "            margin-top: 10px;\n",
        "        }\n",
        "        .btn {\n",
        "            padding: 10px 20px;\n",
        "            margin: 0 10px;\n",
        "            background-color: #4CAF50;\n",
        "            color: white;\n",
        "            border: none;\n",
        "            border-radius: 8px;\n",
        "            cursor: pointer;\n",
        "            font-weight: bold;\n",
        "        }\n",
        "        .btn:hover {\n",
        "            background-color: #45a049;\n",
        "        }\n",
        "        h2 {\n",
        "            color: #444;\n",
        "            margin-top: 40px;\n",
        "        }\n",
        "        .image-container {\n",
        "            display: flex;\n",
        "            flex-wrap: wrap;\n",
        "            justify-content: center;\n",
        "            gap: 25px;\n",
        "            margin-top: 20px;\n",
        "        }\n",
        "        .recommended-box {\n",
        "            text-align: center;\n",
        "            background-color: #ffffffee;\n",
        "            padding: 10px;\n",
        "            border-radius: 12px;\n",
        "            box-shadow: 0 4px 8px rgba(0,0,0,0.1);\n",
        "            width: 180px;\n",
        "        }\n",
        "        .image {\n",
        "            width: 160px;\n",
        "            height: auto;\n",
        "            border-radius: 8px;\n",
        "        }\n",
        "    </style>\n",
        "</head>\n",
        "<body>\n",
        "    <div class=\"container\">\n",
        "        <h1>Fashion Product Recommender</h1>\n",
        "        <form action=\"/recommend\" method=\"post\">\n",
        "            <input type=\"text\" name=\"product_id\" placeholder=\"Enter Product ID\" required>\n",
        "            <div class=\"btn-group\">\n",
        "                <button class=\"btn\" type=\"submit\" name=\"algo\" value=\"lsh\">LSH Recommend</button>\n",
        "                <button class=\"btn\" type=\"submit\" name=\"algo\" value=\"hnsw\">HNSW Recommend</button>\n",
        "            </div>\n",
        "        </form>\n",
        "\n",
        "        {% if query_image %}\n",
        "        <h2>Query Image</h2>\n",
        "        <div class=\"image-container\">\n",
        "            <div class=\"recommended-box\">\n",
        "                <img src=\"{{ query_image }}\" alt=\"Query Image\" class=\"image\">\n",
        "                <p><strong>Query Product</strong></p>\n",
        "            </div>\n",
        "        </div>\n",
        "        {% endif %}\n",
        "\n",
        "        {% if recommended_images %}\n",
        "        <h2>Recommended Images</h2>\n",
        "        <div class=\"image-container\">\n",
        "            {% for image in recommended_images %}\n",
        "                <div class=\"recommended-box\">\n",
        "                    <img src=\"{{ image.url }}\" alt=\"Recommended\" class=\"image\">\n",
        "                    <p>Product ID: {{ image.product_id }}</p>\n",
        "                </div>\n",
        "            {% endfor %}\n",
        "        </div>\n",
        "        {% endif %}\n",
        "    </div>\n",
        "</body>\n",
        "</html>\n",
        "\"\"\""
      ]
    },
    {
      "cell_type": "markdown",
      "metadata": {
        "id": "iZnHgz0vrb0Z"
      },
      "source": [
        "##### App"
      ]
    },
    {
      "cell_type": "code",
      "execution_count": 68,
      "metadata": {
        "id": "SJ6TWvD7kvyq"
      },
      "outputs": [],
      "source": [
        "app = Flask(__name__)\n",
        "\n",
        "# Folder to save uploaded images (for demo)\n",
        "UPLOAD_FOLDER = '/content/uploads'\n",
        "os.makedirs(UPLOAD_FOLDER, exist_ok=True)\n",
        "app.config['UPLOAD_FOLDER'] = UPLOAD_FOLDER\n",
        "\n",
        "\n",
        "# Sample recommendation handler\n",
        "@app.route('/', methods=['GET'])\n",
        "def home():\n",
        "    return render_template_string(HTML_TEMPLATE)\n",
        "\n",
        "@app.route('/recommend', methods=['POST'])\n",
        "def recommend():\n",
        "    product_id = request.form.get('product_id')\n",
        "    method = request.form.get('algo')  # Get which button was clicked\n",
        "    query_image_path = f'/images/{product_id}.jpg'  #\n",
        "\n",
        "    if method == \"lsh\":\n",
        "        print(f\"Running LSH-based recommendation for product ID: {product_id}\")\n",
        "        recommendations = lsh_recommender.get_recommendations(query_pid=product_id, k=3)\n",
        "        for each in recommendations:\n",
        "          each['metadata']['path'] = each['metadata']['path'].replace('/content/drive/MyDrive/MLBD/Project/data/', '/content/fashion_data/myntradataset/')\n",
        "\n",
        "    elif method == \"hnsw\":\n",
        "        print(f\"Running HNSW-based recommendation for product ID: {product_id}\")\n",
        "        recommendations = hnsw_recommender.find_similar_products(product_id, k=3)\n",
        "        for each in recommendations:\n",
        "          each['metadata']['path'] = each['metadata']['path'].replace('/content/drive/MyDrive/MLBD/Project/data/', '/content/fashion_data/myntradataset/')\n",
        "\n",
        "    else:\n",
        "        recommendations = []\n",
        "    # Extract query image and recommended images\n",
        "    if recommendations:\n",
        "        recommended_images = [\n",
        "            {\n",
        "                \"filename\": rec[\"metadata\"][\"filename\"],\n",
        "                \"url\": f\"/images/{rec['metadata']['filename']}\",\n",
        "                \"product_id\": rec[\"product_id\"],\n",
        "\n",
        "            }\n",
        "            for rec in recommendations\n",
        "        ]\n",
        "    else:\n",
        "        recommended_images = [\n",
        "            {\"url\" : \"https://i.imgur.com/ExdKOOz.png\",\"product_id\" :\"DummyId\"},\n",
        "            {\"url\":\"https://i.imgur.com/ExdKOOz.png\",\"product_id\" :\"DummyId\"},\n",
        "            {\"url\":\"https://i.imgur.com/ExdKOOz.png\",\"product_id\" :\"DummyId\"},\n",
        "        ]\n",
        "    print(recommended_images)\n",
        "    return render_template_string(\n",
        "        HTML_TEMPLATE,\n",
        "        query_id=product_id,\n",
        "        query_image=query_image_path,\n",
        "        recommended_images=recommended_images\n",
        "    )\n",
        "\n",
        "from flask import send_from_directory\n",
        "\n",
        "@app.route('/images/<path:filename>')\n",
        "def serve_image(filename):\n",
        "    return send_from_directory('/content/fashion_data/myntradataset/images', filename)"
      ]
    },
    {
      "cell_type": "code",
      "execution_count": 69,
      "metadata": {
        "colab": {
          "base_uri": "https://localhost:8080/"
        },
        "id": "ALx_OQFBm8hO",
        "outputId": "dcac74df-94e5-4cde-c129-87a91793129b"
      },
      "outputs": [
        {
          "output_type": "stream",
          "name": "stdout",
          "text": [
            " * Ngrok Tunnel URL: NgrokTunnel: \"https://6ac6-34-75-35-35.ngrok-free.app\" -> \"http://localhost:5000\"\n",
            " * Serving Flask app '__main__'\n",
            " * Debug mode: off\n"
          ]
        },
        {
          "output_type": "stream",
          "name": "stderr",
          "text": [
            "INFO:werkzeug:\u001b[31m\u001b[1mWARNING: This is a development server. Do not use it in a production deployment. Use a production WSGI server instead.\u001b[0m\n",
            " * Running on http://127.0.0.1:5000\n",
            "INFO:werkzeug:\u001b[33mPress CTRL+C to quit\u001b[0m\n",
            "INFO:werkzeug:127.0.0.1 - - [20/Apr/2025 16:22:01] \"GET / HTTP/1.1\" 200 -\n",
            "INFO:werkzeug:127.0.0.1 - - [20/Apr/2025 16:22:02] \"\u001b[33mGET /favicon.ico HTTP/1.1\u001b[0m\" 404 -\n",
            "INFO:werkzeug:127.0.0.1 - - [20/Apr/2025 16:22:06] \"POST /recommend HTTP/1.1\" 200 -\n"
          ]
        },
        {
          "output_type": "stream",
          "name": "stdout",
          "text": [
            "Running HNSW-based recommendation for product ID: 51624\n",
            "[{'filename': '51623.jpg', 'url': '/images/51623.jpg', 'product_id': '51623'}, {'filename': '51622.jpg', 'url': '/images/51622.jpg', 'product_id': '51622'}, {'filename': '51630.jpg', 'url': '/images/51630.jpg', 'product_id': '51630'}]\n"
          ]
        },
        {
          "output_type": "stream",
          "name": "stderr",
          "text": [
            "INFO:werkzeug:127.0.0.1 - - [20/Apr/2025 16:22:07] \"GET /images/51622.jpg HTTP/1.1\" 200 -\n",
            "INFO:werkzeug:127.0.0.1 - - [20/Apr/2025 16:22:07] \"GET /images/51630.jpg HTTP/1.1\" 200 -\n",
            "INFO:werkzeug:127.0.0.1 - - [20/Apr/2025 16:22:07] \"GET /images/51624.jpg HTTP/1.1\" 200 -\n",
            "INFO:werkzeug:127.0.0.1 - - [20/Apr/2025 16:22:07] \"GET /images/51623.jpg HTTP/1.1\" 200 -\n",
            "INFO:werkzeug:127.0.0.1 - - [20/Apr/2025 16:22:16] \"POST /recommend HTTP/1.1\" 200 -\n"
          ]
        },
        {
          "output_type": "stream",
          "name": "stdout",
          "text": [
            "Running HNSW-based recommendation for product ID: 49019\n",
            "[{'filename': '49025.jpg', 'url': '/images/49025.jpg', 'product_id': '49025'}, {'filename': '48925.jpg', 'url': '/images/48925.jpg', 'product_id': '48925'}, {'filename': '49012.jpg', 'url': '/images/49012.jpg', 'product_id': '49012'}]\n"
          ]
        },
        {
          "output_type": "stream",
          "name": "stderr",
          "text": [
            "INFO:werkzeug:127.0.0.1 - - [20/Apr/2025 16:22:17] \"GET /images/49019.jpg HTTP/1.1\" 200 -\n",
            "INFO:werkzeug:127.0.0.1 - - [20/Apr/2025 16:22:17] \"GET /images/48925.jpg HTTP/1.1\" 200 -\n",
            "INFO:werkzeug:127.0.0.1 - - [20/Apr/2025 16:22:17] \"GET /images/49025.jpg HTTP/1.1\" 200 -\n",
            "INFO:werkzeug:127.0.0.1 - - [20/Apr/2025 16:22:17] \"GET /images/49012.jpg HTTP/1.1\" 200 -\n",
            "INFO:werkzeug:127.0.0.1 - - [20/Apr/2025 16:22:24] \"POST /recommend HTTP/1.1\" 200 -\n"
          ]
        },
        {
          "output_type": "stream",
          "name": "stdout",
          "text": [
            "Running HNSW-based recommendation for product ID: 8808\n",
            "[{'filename': '7174.jpg', 'url': '/images/7174.jpg', 'product_id': '7174'}, {'filename': '9651.jpg', 'url': '/images/9651.jpg', 'product_id': '9651'}, {'filename': '8743.jpg', 'url': '/images/8743.jpg', 'product_id': '8743'}]\n"
          ]
        },
        {
          "output_type": "stream",
          "name": "stderr",
          "text": [
            "INFO:werkzeug:127.0.0.1 - - [20/Apr/2025 16:22:25] \"GET /images/8808.jpg HTTP/1.1\" 200 -\n",
            "INFO:werkzeug:127.0.0.1 - - [20/Apr/2025 16:22:25] \"GET /images/7174.jpg HTTP/1.1\" 200 -\n",
            "INFO:werkzeug:127.0.0.1 - - [20/Apr/2025 16:22:25] \"GET /images/9651.jpg HTTP/1.1\" 200 -\n",
            "INFO:werkzeug:127.0.0.1 - - [20/Apr/2025 16:22:25] \"GET /images/8743.jpg HTTP/1.1\" 200 -\n",
            "INFO:werkzeug:127.0.0.1 - - [20/Apr/2025 16:22:36] \"POST /recommend HTTP/1.1\" 200 -\n"
          ]
        },
        {
          "output_type": "stream",
          "name": "stdout",
          "text": [
            "Running HNSW-based recommendation for product ID: 10017\n",
            "[{'filename': '11518.jpg', 'url': '/images/11518.jpg', 'product_id': '11518'}, {'filename': '19528.jpg', 'url': '/images/19528.jpg', 'product_id': '19528'}, {'filename': '16497.jpg', 'url': '/images/16497.jpg', 'product_id': '16497'}]\n"
          ]
        },
        {
          "output_type": "stream",
          "name": "stderr",
          "text": [
            "INFO:werkzeug:127.0.0.1 - - [20/Apr/2025 16:22:36] \"GET /images/10017.jpg HTTP/1.1\" 200 -\n",
            "INFO:werkzeug:127.0.0.1 - - [20/Apr/2025 16:22:36] \"GET /images/11518.jpg HTTP/1.1\" 200 -\n",
            "INFO:werkzeug:127.0.0.1 - - [20/Apr/2025 16:22:36] \"GET /images/19528.jpg HTTP/1.1\" 200 -\n",
            "INFO:werkzeug:127.0.0.1 - - [20/Apr/2025 16:22:36] \"GET /images/16497.jpg HTTP/1.1\" 200 -\n"
          ]
        }
      ],
      "source": [
        "# Start ngrok tunnel\n",
        "public_url = ngrok.connect(5000)\n",
        "print(\" * Ngrok Tunnel URL:\", public_url)\n",
        "\n",
        "\n",
        "# # Start Flask app\n",
        "app.run(port=5000)"
      ]
    },
    {
      "cell_type": "code",
      "execution_count": null,
      "metadata": {
        "id": "Ky3RdBAXomXd"
      },
      "outputs": [],
      "source": []
    },
    {
      "cell_type": "code",
      "execution_count": null,
      "metadata": {
        "id": "Kzvjw-Elomdj"
      },
      "outputs": [],
      "source": []
    },
    {
      "cell_type": "code",
      "execution_count": null,
      "metadata": {
        "id": "w6VBGboDm8kp"
      },
      "outputs": [],
      "source": []
    }
  ],
  "metadata": {
    "colab": {
      "collapsed_sections": [
        "ZRinHaxcdz51",
        "VdA02o1On9HR"
      ],
      "provenance": []
    },
    "kernelspec": {
      "display_name": "Python 3",
      "name": "python3"
    },
    "language_info": {
      "name": "python"
    }
  },
  "nbformat": 4,
  "nbformat_minor": 0
}